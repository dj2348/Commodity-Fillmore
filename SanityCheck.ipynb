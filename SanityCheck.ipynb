{
 "cells": [
  {
   "cell_type": "code",
   "execution_count": 1,
   "metadata": {},
   "outputs": [],
   "source": [
    "import pricer\n",
    "import numpy as np\n",
    "import pandas as pd"
   ]
  },
  {
   "cell_type": "code",
   "execution_count": 2,
   "metadata": {},
   "outputs": [
    {
     "name": "stdout",
     "output_type": "stream",
     "text": [
      "Help on module pricer:\n",
      "\n",
      "NAME\n",
      "    pricer\n",
      "\n",
      "CLASSES\n",
      "    builtins.object\n",
      "        monte_carlo_simulator\n",
      "    \n",
      "    class monte_carlo_simulator(builtins.object)\n",
      "     |  monte_carlo_simulator(model_params, cur_mkt_val, maturity, sim_info)\n",
      "     |  \n",
      "     |  Methods defined here:\n",
      "     |  \n",
      "     |  __init__(self, model_params, cur_mkt_val, maturity, sim_info)\n",
      "     |      model_params: theta (array of func of t, days. [theta_e, theta_g]), rho, alpha(array of size 2, [alpha_e, alpha_g]), vol, win_len\n",
      "     |      cur_mkt_val: e0, g0\n",
      "     |      maturity: T\n",
      "     |      sim_info: num_sim, n_steps\n",
      "     |  \n",
      "     |  fourier_vol_sim(self)\n",
      "     |  \n",
      "     |  rolling_vol_sim(self)\n",
      "     |  \n",
      "     |  ----------------------------------------------------------------------\n",
      "     |  Data descriptors defined here:\n",
      "     |  \n",
      "     |  __dict__\n",
      "     |      dictionary for instance variables (if defined)\n",
      "     |  \n",
      "     |  __weakref__\n",
      "     |      list of weak references to the object (if defined)\n",
      "\n",
      "FUNCTIONS\n",
      "    energy_euro_call(history, K, r, T)\n",
      "        T: expiry\n",
      "        r: yield_curve\n",
      "        K: [Ke, Kg]\n",
      "        Monthly Block Call Options: underlying is the futures and option expiry = futures delivery.. well it's the fucking spot\n",
      "    \n",
      "    energy_futures(history)\n",
      "        Monthly Block Futures Contract：payoff is the expected value of monthly block spot price\n",
      "    \n",
      "    yield_curve(t)\n",
      "        t: annualized maturity: 1mo = 1/12\n",
      "\n",
      "DATA\n",
      "    norm = <scipy.stats._continuous_distns.norm_gen object>\n",
      "\n",
      "FILE\n",
      "    /Users/maxwell/Documents/CMU/Courses/Mini 5/MSCF Studies /Case/Commodity-Fillmore/pricer.py\n",
      "\n",
      "\n"
     ]
    }
   ],
   "source": [
    "help(pricer)"
   ]
  },
  {
   "cell_type": "code",
   "execution_count": 3,
   "metadata": {},
   "outputs": [],
   "source": [
    "#from calibration import volatility"
   ]
  },
  {
   "cell_type": "code",
   "execution_count": 4,
   "metadata": {},
   "outputs": [],
   "source": [
    "model_params = [np.array([lambda x: 0.1, lambda x: 0.2]), 0.9, np.array([5.2, 4.4]), None, 20]\n",
    "cur_mkt_val = [82/20, 9.52]\n",
    "maturity = 1 \n",
    "sim_info = [1000, 240]\n",
    "model = pricer.monte_carlo_simulator(model_params, cur_mkt_val, maturity, sim_info)"
   ]
  },
  {
   "cell_type": "code",
   "execution_count": 5,
   "metadata": {},
   "outputs": [],
   "source": [
    "history = model.rolling_vol_sim()"
   ]
  },
  {
   "cell_type": "code",
   "execution_count": 6,
   "metadata": {},
   "outputs": [
    {
     "data": {
      "text/plain": [
       "(array([70.23781112, 46.04209435, 30.46112784, 20.42565625, 13.92230519,\n",
       "         9.71235263,  7.00042428,  5.26378386,  4.13892135,  3.41343442,\n",
       "         2.94607305,  2.64540293]),\n",
       " array([168.13154718, 117.16185638,  81.88480264,  58.05689174,\n",
       "         41.42856361,  29.88296077,  21.90131659,  16.42710849,\n",
       "         12.63471305,  10.01492409,   8.21183775,   6.96713149]))"
      ]
     },
     "execution_count": 6,
     "metadata": {},
     "output_type": "execute_result"
    }
   ],
   "source": [
    "pricer.energy_futures(history)"
   ]
  },
  {
   "cell_type": "code",
   "execution_count": 8,
   "metadata": {},
   "outputs": [
    {
     "data": {
      "text/plain": [
       "(array([2.57567173, 1.65801989, 1.06586792, 0.6875234 , 0.44232843,\n",
       "        0.28374258, 0.18236245, 0.11739619, 0.07541955, 0.04843608,\n",
       "        0.0311151 , 0.02000773]),\n",
       " array([3.64242843, 1.64408143, 0.42826258, 0.01814768, 0.        ,\n",
       "        0.        , 0.        , 0.        , 0.        , 0.        ,\n",
       "        0.        , 0.        ]))"
      ]
     },
     "execution_count": 8,
     "metadata": {},
     "output_type": "execute_result"
    }
   ],
   "source": [
    "pricer.energy_euro_call(history, [0.1, 3], pricer.yield_curve, 1)"
   ]
  },
  {
   "cell_type": "code",
   "execution_count": null,
   "metadata": {},
   "outputs": [],
   "source": []
  }
 ],
 "metadata": {
  "kernelspec": {
   "display_name": "Python 3",
   "language": "python",
   "name": "python3"
  },
  "language_info": {
   "codemirror_mode": {
    "name": "ipython",
    "version": 3
   },
   "file_extension": ".py",
   "mimetype": "text/x-python",
   "name": "python",
   "nbconvert_exporter": "python",
   "pygments_lexer": "ipython3",
   "version": "3.7.3"
  }
 },
 "nbformat": 4,
 "nbformat_minor": 4
}
